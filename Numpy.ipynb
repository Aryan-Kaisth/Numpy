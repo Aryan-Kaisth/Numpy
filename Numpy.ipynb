{
  "nbformat": 4,
  "nbformat_minor": 0,
  "metadata": {
    "colab": {
      "provenance": []
    },
    "kernelspec": {
      "name": "python3",
      "display_name": "Python 3"
    },
    "language_info": {
      "name": "python"
    }
  },
  "cells": [
    {
      "cell_type": "code",
      "source": [
        "import numpy as np"
      ],
      "metadata": {
        "id": "804OOEdWUrIW"
      },
      "execution_count": 3,
      "outputs": []
    },
    {
      "cell_type": "markdown",
      "source": [
        "\n",
        "\n",
        "---\n",
        "\n",
        "\n",
        "**Question 1**"
      ],
      "metadata": {
        "id": "oWT2hE38UTiG"
      }
    },
    {
      "cell_type": "code",
      "source": [
        "# Create a 3x3 array with random integers between 1 and 100\n",
        "array=np.random.randint(1,101,(3,3)) # Taking 101 because low is exclusive\n",
        "print(\"Original Array:\")\n",
        "print(array)\n",
        "\n",
        "# Transpose the array (interchange rows and columns)\n",
        "transposed_array = array.T\n",
        "\n",
        "print(\"\\nTransposed Array:\")\n",
        "print(transposed_array)"
      ],
      "metadata": {
        "colab": {
          "base_uri": "https://localhost:8080/"
        },
        "id": "LK0_uCMQZdbc",
        "outputId": "cb968bdd-234e-469d-ea05-1d4285c17d87"
      },
      "execution_count": 39,
      "outputs": [
        {
          "output_type": "stream",
          "name": "stdout",
          "text": [
            "Original Array:\n",
            "[[48 89 25]\n",
            " [ 6 45 70]\n",
            " [ 3 24 52]]\n",
            "\n",
            "Transposed Array:\n",
            "[[48  6  3]\n",
            " [89 45 24]\n",
            " [25 70 52]]\n"
          ]
        }
      ]
    },
    {
      "cell_type": "markdown",
      "source": [
        "\n",
        "\n",
        "---\n",
        "**Question 2**\n"
      ],
      "metadata": {
        "id": "uyQijYekbc8G"
      }
    },
    {
      "cell_type": "code",
      "source": [
        "# Generate a 1D array with 10 elements\n",
        "array_1d = np.arange(10)\n",
        "\n",
        "print(\"Original 1D Array:\")\n",
        "print(array_1d)\n",
        "\n",
        "# Reshape it into a 2x5 array\n",
        "array_2x5 = array_1d.reshape(2, 5)\n",
        "\n",
        "print(\"\\nReshaped into 2x5 Array:\")\n",
        "print(array_2x5)\n",
        "\n",
        "# Reshape it into a 5x2 array\n",
        "array_5x2 = array_2x5.reshape(5, 2)\n",
        "\n",
        "print(\"\\nReshaped into 5x2 Array:\")\n",
        "print(array_5x2)\n"
      ],
      "metadata": {
        "colab": {
          "base_uri": "https://localhost:8080/"
        },
        "id": "wNlkeK0ObgKM",
        "outputId": "547c92f4-8dec-434c-8918-1492be6cdfaf"
      },
      "execution_count": null,
      "outputs": [
        {
          "output_type": "stream",
          "name": "stdout",
          "text": [
            "Original 1D Array:\n",
            "[0 1 2 3 4 5 6 7 8 9]\n",
            "\n",
            "Reshaped into 2x5 Array:\n",
            "[[0 1 2 3 4]\n",
            " [5 6 7 8 9]]\n",
            "\n",
            "Reshaped into 5x2 Array:\n",
            "[[0 1]\n",
            " [2 3]\n",
            " [4 5]\n",
            " [6 7]\n",
            " [8 9]]\n"
          ]
        }
      ]
    },
    {
      "cell_type": "markdown",
      "source": [
        "\n",
        "\n",
        "---\n",
        "**Question 3**"
      ],
      "metadata": {
        "id": "Gd4uHFctiUq2"
      }
    },
    {
      "cell_type": "code",
      "source": [
        "# Create a 4x4 array with random float values\n",
        "array_4x4 = np.random.rand(4, 4)\n",
        "\n",
        "print(\"Original 4x4 Array:\")\n",
        "print(array_4x4)\n",
        "\n",
        "# Add a border of zeros around the 4x4 array, resulting in a 6x6 array\n",
        "array_6x6 = np.pad(array_4x4, pad_width=1, mode=\"constant\", constant_values=0)\n",
        "\n",
        "print(\"\\n6x6 Array with Border of Zeros:\")\n",
        "print(array_6x6)\n"
      ],
      "metadata": {
        "colab": {
          "base_uri": "https://localhost:8080/"
        },
        "id": "2q6Lk8M5c_RB",
        "outputId": "29c4692b-a37f-4968-d04f-e37a2faa9125"
      },
      "execution_count": null,
      "outputs": [
        {
          "output_type": "stream",
          "name": "stdout",
          "text": [
            "Original 4x4 Array:\n",
            "[[0.67495498 0.31619064 0.71085917 0.01786956]\n",
            " [0.51762101 0.098631   0.08987524 0.23985303]\n",
            " [0.68818213 0.34789203 0.74260685 0.40119803]\n",
            " [0.01293051 0.20302316 0.72346365 0.03084708]]\n",
            "\n",
            "6x6 Array with Border of Zeros:\n",
            "[[0.         0.         0.         0.         0.         0.        ]\n",
            " [0.         0.67495498 0.31619064 0.71085917 0.01786956 0.        ]\n",
            " [0.         0.51762101 0.098631   0.08987524 0.23985303 0.        ]\n",
            " [0.         0.68818213 0.34789203 0.74260685 0.40119803 0.        ]\n",
            " [0.         0.01293051 0.20302316 0.72346365 0.03084708 0.        ]\n",
            " [0.         0.         0.         0.         0.         0.        ]]\n"
          ]
        }
      ]
    },
    {
      "cell_type": "markdown",
      "source": [
        "\n",
        "\n",
        "---\n",
        "\n",
        "\n",
        "**Question 4**"
      ],
      "metadata": {
        "id": "3pY7QYxiiYwW"
      }
    },
    {
      "cell_type": "code",
      "source": [
        "# Create an array of integers from 10 to 60 with a step of 5\n",
        "array = np.arange(10, 61, 5) # taking 61 because stop is exclusive\n",
        "\n",
        "print(array)"
      ],
      "metadata": {
        "colab": {
          "base_uri": "https://localhost:8080/"
        },
        "id": "ptK0Cih8icLW",
        "outputId": "5b85f776-313a-423c-801d-ca3040892957"
      },
      "execution_count": 40,
      "outputs": [
        {
          "output_type": "stream",
          "name": "stdout",
          "text": [
            "[10 15 20 25 30 35 40 45 50 55 60]\n"
          ]
        }
      ]
    },
    {
      "cell_type": "markdown",
      "source": [
        "\n",
        "---\n",
        "**Question 5**\n"
      ],
      "metadata": {
        "id": "kQLug1o6jdVO"
      }
    },
    {
      "cell_type": "code",
      "source": [
        "# NumPy array of given list of strings\n",
        "string_array = np.array(['python','numpy','pandas'])\n",
        "\n",
        "# Apply different case transformations\n",
        "upper_case = np.char.upper(string_array)        # Convert to uppercase\n",
        "lower_case = np.char.lower(string_array)        # Convert to lowercase\n",
        "title_case = np.char.title(string_array)        # Convert to title case\n",
        "capitalize_case = np.char.capitalize(string_array)  # Capitalize the first letter\n",
        "\n",
        "# Print the results\n",
        "print(\"Original Array:\")\n",
        "print(string_array)\n",
        "\n",
        "print(\"\\nUppercase:\")\n",
        "print(upper_case)\n",
        "\n",
        "print(\"\\nLowercase:\")\n",
        "print(lower_case)\n",
        "\n",
        "print(\"\\nTitle Case:\")\n",
        "print(title_case)\n",
        "\n",
        "print(\"\\nCapitalize:\")\n",
        "print(capitalize_case)\n"
      ],
      "metadata": {
        "colab": {
          "base_uri": "https://localhost:8080/"
        },
        "id": "Iag6yCZnjjD7",
        "outputId": "08fb431d-fa2c-48db-9564-971f13560445"
      },
      "execution_count": null,
      "outputs": [
        {
          "output_type": "stream",
          "name": "stdout",
          "text": [
            "Original Array:\n",
            "['python' 'numpy' 'pandas']\n",
            "\n",
            "Uppercase:\n",
            "['PYTHON' 'NUMPY' 'PANDAS']\n",
            "\n",
            "Lowercase:\n",
            "['python' 'numpy' 'pandas']\n",
            "\n",
            "Title Case:\n",
            "['Python' 'Numpy' 'Pandas']\n",
            "\n",
            "Capitalize:\n",
            "['Python' 'Numpy' 'Pandas']\n"
          ]
        }
      ]
    },
    {
      "cell_type": "markdown",
      "source": [
        "\n",
        "\n",
        "---\n",
        "\n",
        "\n",
        "**Question 6**"
      ],
      "metadata": {
        "id": "vvG-Dwo9rLj7"
      }
    },
    {
      "cell_type": "code",
      "source": [
        "# Create a NumPy array of words\n",
        "words = np.array([\"apple\", \"banana\", \"cherry\", \"date\", \"elderberry\"])\n",
        "\n",
        "# Insert a space between each character of every word\n",
        "spaced_words = np.char.join(' ', words)\n",
        "\n",
        "# Print the results\n",
        "print(\"Original Array of Words:\")\n",
        "print(words)\n",
        "\n",
        "print(\"\\nWords with Spaces Between Characters:\")\n",
        "print(spaced_words)\n"
      ],
      "metadata": {
        "colab": {
          "base_uri": "https://localhost:8080/"
        },
        "id": "XC7NNqq-rOwT",
        "outputId": "2289745e-3aaf-40a8-c73b-562e303949a9"
      },
      "execution_count": null,
      "outputs": [
        {
          "output_type": "stream",
          "name": "stdout",
          "text": [
            "Original Array of Words:\n",
            "['apple' 'banana' 'cherry' 'date' 'elderberry']\n",
            "\n",
            "Words with Spaces Between Characters:\n",
            "['a p p l e' 'b a n a n a' 'c h e r r y' 'd a t e' 'e l d e r b e r r y']\n"
          ]
        }
      ]
    },
    {
      "cell_type": "markdown",
      "source": [
        "\n",
        "\n",
        "---\n",
        "**Question 7**\n"
      ],
      "metadata": {
        "id": "sD-Orp57ljJg"
      }
    },
    {
      "cell_type": "code",
      "source": [
        "# Create the two 2D NumPy arrays\n",
        "array1 = np.array([[1, 2, 6], [4, 1, 3], [8, 4, 2]])\n",
        "array2 = np.array([[6, 1, 3], [2, 5, 1], [3, 7, 1]])\n",
        "\n",
        "# Perform element-wise addition\n",
        "add = array1 + array2\n",
        "\n",
        "# Perform element-wise subtraction\n",
        "sub = array1 - array2\n",
        "\n",
        "# Perform element-wise multiplication\n",
        "mul = array1 * array2\n",
        "\n",
        "# Perform element-wise division\n",
        "div = array1 / array2\n",
        "\n",
        "# Print the results\n",
        "print(\"Array 1:\")\n",
        "print(array1)\n",
        "\n",
        "print(\"\\nArray 2:\")\n",
        "print(array2)\n",
        "\n",
        "print(\"\\nElement-wise Addition:\")\n",
        "print(add)\n",
        "\n",
        "print(\"\\nElement-wise Subtraction:\")\n",
        "print(sub)\n",
        "\n",
        "print(\"\\nElement-wise Multiplication:\")\n",
        "print(mul)\n",
        "\n",
        "print(\"\\nElement-wise Division:\")\n",
        "print(div)"
      ],
      "metadata": {
        "colab": {
          "base_uri": "https://localhost:8080/"
        },
        "id": "IMc2bSs_lgoW",
        "outputId": "027f0096-9241-4147-9b17-eae090a9f7f4"
      },
      "execution_count": 41,
      "outputs": [
        {
          "output_type": "stream",
          "name": "stdout",
          "text": [
            "Array 1:\n",
            "[[1 2 6]\n",
            " [4 1 3]\n",
            " [8 4 2]]\n",
            "\n",
            "Array 2:\n",
            "[[6 1 3]\n",
            " [2 5 1]\n",
            " [3 7 1]]\n",
            "\n",
            "Element-wise Addition:\n",
            "[[ 7  3  9]\n",
            " [ 6  6  4]\n",
            " [11 11  3]]\n",
            "\n",
            "Element-wise Subtraction:\n",
            "[[-5  1  3]\n",
            " [ 2 -4  2]\n",
            " [ 5 -3  1]]\n",
            "\n",
            "Element-wise Multiplication:\n",
            "[[ 6  2 18]\n",
            " [ 8  5  3]\n",
            " [24 28  2]]\n",
            "\n",
            "Element-wise Division:\n",
            "[[0.16666667 2.         2.        ]\n",
            " [2.         0.2        3.        ]\n",
            " [2.66666667 0.57142857 2.        ]]\n"
          ]
        }
      ]
    },
    {
      "cell_type": "markdown",
      "source": [
        "\n",
        "\n",
        "---\n",
        "\n",
        "\n",
        "**Question 8**"
      ],
      "metadata": {
        "id": "y1y09kS6nt5U"
      }
    },
    {
      "cell_type": "code",
      "source": [
        "# Create a 5x5 identity matrix\n",
        "identity_matrix = np.eye(5)\n",
        "\n",
        "# Extract the diagonal elements\n",
        "diagonal_elements = np.diagonal(identity_matrix)\n",
        "\n",
        "# Print the results\n",
        "print(\"5x5 Identity Matrix:\")\n",
        "print(identity_matrix)\n",
        "\n",
        "print(\"\\nDiagonal Elements:\")\n",
        "print(diagonal_elements)\n"
      ],
      "metadata": {
        "colab": {
          "base_uri": "https://localhost:8080/"
        },
        "id": "IDHASRRtnzci",
        "outputId": "59e9a163-26ca-4d89-d64d-a1201b244587"
      },
      "execution_count": 42,
      "outputs": [
        {
          "output_type": "stream",
          "name": "stdout",
          "text": [
            "5x5 Identity Matrix:\n",
            "[[1. 0. 0. 0. 0.]\n",
            " [0. 1. 0. 0. 0.]\n",
            " [0. 0. 1. 0. 0.]\n",
            " [0. 0. 0. 1. 0.]\n",
            " [0. 0. 0. 0. 1.]]\n",
            "\n",
            "Diagonal Elements:\n",
            "[1. 1. 1. 1. 1.]\n"
          ]
        }
      ]
    },
    {
      "cell_type": "markdown",
      "source": [
        "\n",
        "\n",
        "---\n",
        "\n",
        "\n",
        "**Question 9**"
      ],
      "metadata": {
        "id": "XFP8Mrtvq0I8"
      }
    },
    {
      "cell_type": "code",
      "source": [
        "# Generate an array of 100 random integers between 0 and 1000\n",
        "random_array = np.random.randint(0, 1000, 100)\n",
        "\n",
        "# Function to check if a number is prime\n",
        "def is_prime(num):\n",
        "    if num < 2:\n",
        "        return False\n",
        "    for i in range(2, int(num**0.5) + 1):\n",
        "        if num % i == 0:\n",
        "            return False\n",
        "    return True\n",
        "\n",
        "# Find all prime numbers in the array\n",
        "prime_numbers = [num for num in random_array if is_prime(num)]\n",
        "\n",
        "# Printing the results\n",
        "print(\"Random Array:\", random_array)\n",
        "print(\"\\nPrime Numbers:\", prime_numbers)"
      ],
      "metadata": {
        "id": "7ueny-_lqzTT",
        "colab": {
          "base_uri": "https://localhost:8080/"
        },
        "outputId": "976c5a4b-3212-4132-c02b-14cd7cf06bf9"
      },
      "execution_count": 28,
      "outputs": [
        {
          "output_type": "stream",
          "name": "stdout",
          "text": [
            "Random Array: [583 807 450 286 914  28 688 244 218 210  18 539 284 660 959 135 384 956\n",
            " 927 961 780 678 920 249 786 546 487 258 938 760 144 393 382 200 938 572\n",
            "  64  28 471 469 248 470 959 703 913 440 196 636 961 678 311  22 403 104\n",
            " 960 797 593  52 429   6 127 862   4 786 843 430 964 402 747  57 312 769\n",
            "  54 515 790 115 867 622 254 784 503 164 122 977 757 130  98 882 799 902\n",
            " 508 241 371 756  33 554 453 849 830 640]\n",
            "\n",
            "Prime Numbers: [487, 311, 797, 593, 127, 769, 503, 977, 757, 241]\n"
          ]
        }
      ]
    },
    {
      "cell_type": "markdown",
      "source": [
        "\n",
        "\n",
        "---\n",
        "\n",
        "\n",
        "**Question 10**"
      ],
      "metadata": {
        "id": "u0ASq7woq9mF"
      }
    },
    {
      "cell_type": "code",
      "source": [
        "import numpy as np\n",
        "\n",
        "# Generate a NumPy array representing daily temperatures for a month (30 days)\n",
        "daily_temperatures = np.random.randint(0, 41, size=30)  # Temperatures between 0 and 40 degrees Celsius\n",
        "\n",
        "# Reshape the array into weeks (4 full weeks and 2 remaining days)\n",
        "weeks = np.zeros((5, 7))\n",
        "weeks[:4, :7] = daily_temperatures[:28].reshape(4, 7)\n",
        "weeks[4, :2] = daily_temperatures[28:]\n",
        "\n",
        "# Calculate weekly averages\n",
        "weekly_averages = np.mean(weeks, axis=1)\n",
        "\n",
        "# Display the results\n",
        "print(\"Daily Temperatures for the Month:\", daily_temperatures)\n",
        "print(\"Weekly Averages:\", weekly_averages)\n"
      ],
      "metadata": {
        "id": "3uOnsoFVrBFn",
        "colab": {
          "base_uri": "https://localhost:8080/"
        },
        "outputId": "57228903-31a8-4eb4-c144-47d6008e5533"
      },
      "execution_count": 38,
      "outputs": [
        {
          "output_type": "stream",
          "name": "stdout",
          "text": [
            "Daily Temperatures for the Month: [40  7 38 18 36  5 37 34 16  1 12 35 23 20 12 11 20 23 24 14 23  9 33 24\n",
            " 33  8  6  9 34 35]\n",
            "Weekly Averages: [25.85714286 20.14285714 18.14285714 17.42857143  9.85714286]\n"
          ]
        }
      ]
    }
  ]
}